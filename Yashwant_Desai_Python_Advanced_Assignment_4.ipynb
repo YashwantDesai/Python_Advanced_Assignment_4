{
 "cells": [
  {
   "cell_type": "markdown",
   "id": "0c27a818",
   "metadata": {},
   "source": [
    "# Yashwant Desai –  Python_Advanced_Assignment_4"
   ]
  },
  {
   "cell_type": "markdown",
   "id": "756dbd67",
   "metadata": {},
   "source": [
    "# Q1. Which two operator overloading methods can you use in your classes to support iteration?"
   ]
  },
  {
   "cell_type": "raw",
   "id": "0a0b2e56",
   "metadata": {},
   "source": [
    "We can use two operator overloading methods to support iteration in your classes:\n",
    "\n",
    "__iter__ method: To make an object iterable, you need to define an __iter__ method in your class. This method should return an iterator object, typically self, and be used to initialize the iteration process. This iterator should also define a __next__ method.\n",
    "\n",
    "__next__ method: To implement the actual iteration behavior, you need to define a __next__ method within your iterator object (which can be the same class that defines __iter__). This method should return the next item in the iteration and raise a StopIteration exception when there are no more items to iterate."
   ]
  },
  {
   "cell_type": "code",
   "execution_count": 1,
   "id": "5aa0969e",
   "metadata": {},
   "outputs": [
    {
     "name": "stdout",
     "output_type": "stream",
     "text": [
      "1\n",
      "2\n",
      "3\n",
      "4\n",
      "5\n"
     ]
    }
   ],
   "source": [
    "class MyIterable:\n",
    "    def __init__(self, data):\n",
    "        self.data = data\n",
    "        self.index = 0\n",
    "    def __iter__(self):\n",
    "        return self\n",
    "    def __next__(self):\n",
    "        if self.index < len(self.data):\n",
    "            result = self.data[self.index]\n",
    "            self.index += 1\n",
    "            return result\n",
    "        else:\n",
    "            raise StopIteration()\n",
    "my_list = MyIterable([1, 2, 3, 4, 5])\n",
    "\n",
    "for item in my_list:\n",
    "    print(item)"
   ]
  },
  {
   "cell_type": "markdown",
   "id": "e5974581",
   "metadata": {},
   "source": [
    "# Q2. In what contexts do the two operator overloading methods manage printing?"
   ]
  },
  {
   "cell_type": "raw",
   "id": "28054e36",
   "metadata": {},
   "source": [
    "The two operator overloading methods are __str__ and __repr__\n",
    "__str__: Used for a user-friendly, informal string representation of an object, often for printing and display to users.\n",
    "\n",
    "__repr__: Used for a developer-friendly, formal string representation of an object, often for debugging and internal use, including the interactive interpreter."
   ]
  },
  {
   "cell_type": "code",
   "execution_count": 4,
   "id": "53060be6",
   "metadata": {},
   "outputs": [
    {
     "name": "stdout",
     "output_type": "stream",
     "text": [
      "MyClass instance with value: 88\n",
      "MyClass instance with value: 88\n",
      "MyClass(88)\n"
     ]
    }
   ],
   "source": [
    "class MyClass:\n",
    "    def __init__(self, value):\n",
    "        self.value = value\n",
    "    def __str__(self):\n",
    "        return f\"MyClass instance with value: {self.value}\"\n",
    "    def __repr__(self):\n",
    "        return f\"MyClass({self.value})\"\n",
    "obj = MyClass(88)\n",
    "print(str(obj))\n",
    "print(obj)\n",
    "print(repr(obj))"
   ]
  },
  {
   "cell_type": "markdown",
   "id": "d1a9bda9",
   "metadata": {},
   "source": [
    "# Q3. In a class, how do you intercept slice operations?"
   ]
  },
  {
   "cell_type": "raw",
   "id": "d6517686",
   "metadata": {},
   "source": [
    "To intercept slice operations in a Python class, you can implement the __getitem__ method and handle slicing using the slice object.\n",
    "\n",
    "Implement __getitem__ method:\n",
    "\n",
    "Define the __getitem__ method in your class.\n",
    "This method takes an index or a slice object as its argument and should return the appropriate data based on the index or slice.\n",
    "Handle slicing with the slice object:\n",
    "\n",
    "Check if the argument passed to __getitem__ is a slice object using isinstance(index, slice).\n",
    "If it's a slice, you can extract the start, stop, and step values from the slice object.\n",
    "Use these values to return the desired portion of the data."
   ]
  },
  {
   "cell_type": "code",
   "execution_count": 5,
   "id": "da444b22",
   "metadata": {},
   "outputs": [
    {
     "name": "stdout",
     "output_type": "stream",
     "text": [
      "[1, 3]\n"
     ]
    }
   ],
   "source": [
    "class MyList:\n",
    "    def __init__(self, data):\n",
    "        self.data = data\n",
    "    def __getitem__(self, index):\n",
    "        if isinstance(index, slice):\n",
    "            start, stop, step = index.indices(len(self.data))\n",
    "            sliced_data = [self.data[i] for i in range(start, stop, step)]\n",
    "            return MyList(sliced_data)\n",
    "        else:\n",
    "            return self.data[index]\n",
    "    def __repr__(self):\n",
    "        return repr(self.data)\n",
    "my_list = MyList([0, 1, 2, 3, 4, 5])\n",
    "sliced = my_list[1:4:2]\n",
    "print(sliced)"
   ]
  },
  {
   "cell_type": "markdown",
   "id": "324bed32",
   "metadata": {},
   "source": [
    "# Q4. In a class, how do you capture in-place addition?"
   ]
  },
  {
   "cell_type": "raw",
   "id": "69e0da36",
   "metadata": {},
   "source": [
    "To capture in-place addition (+=) in a Python class, you can implement the __iadd__ method. This method allows you to define how the += operator behaves for instances of your class. \n",
    "\n",
    "Implement the __iadd__ method:\n",
    "Define the __iadd__ method in your class.\n",
    "This method takes one argument, typically named other, representing the value on the right side of +=.\n",
    "Modify the internal state of your object to reflect the addition."
   ]
  },
  {
   "cell_type": "code",
   "execution_count": 6,
   "id": "08a9472f",
   "metadata": {},
   "outputs": [
    {
     "name": "stdout",
     "output_type": "stream",
     "text": [
      "8\n",
      "10\n"
     ]
    }
   ],
   "source": [
    "class MyNumber:\n",
    "    def __init__(self, value):\n",
    "        self.value = value\n",
    "\n",
    "    def __iadd__(self, other):\n",
    "        if isinstance(other, MyNumber):\n",
    "            self.value += other.value\n",
    "        else:\n",
    "            self.value += other\n",
    "        return self\n",
    "    def __repr__(self):\n",
    "        return repr(self.value)\n",
    "num1 = MyNumber(5)\n",
    "num2 = MyNumber(3)\n",
    "num1 += num2\n",
    "print(num1)\n",
    "num1 += 2  \n",
    "print(num1)"
   ]
  },
  {
   "cell_type": "markdown",
   "id": "49052426",
   "metadata": {},
   "source": [
    "# Q5. When is it appropriate to use operator overloading?"
   ]
  },
  {
   "cell_type": "raw",
   "id": "95d3a07a",
   "metadata": {},
   "source": [
    "An operator overloading in Python is appropriate when you want to give custom meaning or behavior to built-in operators for instances of your classes. It should be used when:\n",
    "The operator has a meaningful and intuitive interpretation in the context of your class.\n",
    "It enhances code readability and maintains consistency.\n",
    "It adheres to the principle of least surprise, ensuring that the overloaded operator behaves as expected by Python developers.\n",
    "Common use cases include mathematical operations for custom classes, comparisons, and custom container types. However, operator overloading should be used judiciously and sparingly to avoid confusion and maintain code clarity."
   ]
  },
  {
   "cell_type": "code",
   "execution_count": 7,
   "id": "e6408e8c",
   "metadata": {},
   "outputs": [
    {
     "name": "stdout",
     "output_type": "stream",
     "text": [
      "Vector(4, 6)\n"
     ]
    }
   ],
   "source": [
    "class Vector:\n",
    "    def __init__(self, x, y):\n",
    "        self.x = x\n",
    "        self.y = y\n",
    "    def __add__(self, other):\n",
    "        if isinstance(other, Vector):\n",
    "            return Vector(self.x + other.x, self.y + other.y)\n",
    "        else:\n",
    "            raise TypeError(\"Unsupported operand type for +: Vector and \" + str(type(other)))\n",
    "    def __repr__(self):\n",
    "        return f\"Vector({self.x}, {self.y})\"\n",
    "v1 = Vector(1, 2)\n",
    "v2 = Vector(3, 4)\n",
    "v3 = v1 + v2\n",
    "print(v3)"
   ]
  },
  {
   "cell_type": "markdown",
   "id": "a79c0885",
   "metadata": {},
   "source": [
    "# Done Regards,Yashwant"
   ]
  }
 ],
 "metadata": {
  "kernelspec": {
   "display_name": "Python 3 (ipykernel)",
   "language": "python",
   "name": "python3"
  },
  "language_info": {
   "codemirror_mode": {
    "name": "ipython",
    "version": 3
   },
   "file_extension": ".py",
   "mimetype": "text/x-python",
   "name": "python",
   "nbconvert_exporter": "python",
   "pygments_lexer": "ipython3",
   "version": "3.9.13"
  }
 },
 "nbformat": 4,
 "nbformat_minor": 5
}
